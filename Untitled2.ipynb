{
 "cells": [
  {
   "cell_type": "code",
   "execution_count": 64,
   "id": "64415278-3164-4914-bf82-09a0921bce9a",
   "metadata": {},
   "outputs": [],
   "source": [
    "import numpy as np\n",
    "from matplotlib import pyplot as plt\n",
    "import cv2\n",
    "import os\n",
    "import sys\n",
    "import glob\n",
    "import matplotlib\n",
    "matplotlib.use('nbagg')\n",
    "\n",
    "sr_path = r'C:\\Users\\dklev\\OneDrive\\Documents\\GitHub\\skilled_reaching_pipeline'\n",
    "sys.path.append(sr_path)\n",
    "\n",
    "import skilled_reaching_calibration\n",
    "import navigation_utilities\n",
    "import skilled_reaching_io\n",
    "import computer_vision_basics as cvb"
   ]
  },
  {
   "cell_type": "code",
   "execution_count": null,
   "id": "6000f617-7470-476e-906c-84a52ae6f9e7",
   "metadata": {},
   "outputs": [],
   "source": []
  }
 ],
 "metadata": {
  "kernelspec": {
   "display_name": "Python 3 (ipykernel)",
   "language": "python",
   "name": "python3"
  },
  "language_info": {
   "codemirror_mode": {
    "name": "ipython",
    "version": 3
   },
   "file_extension": ".py",
   "mimetype": "text/x-python",
   "name": "python",
   "nbconvert_exporter": "python",
   "pygments_lexer": "ipython3",
   "version": "3.9.12"
  }
 },
 "nbformat": 4,
 "nbformat_minor": 5
}
