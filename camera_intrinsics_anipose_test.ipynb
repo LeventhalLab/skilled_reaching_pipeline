{
 "cells": [
  {
   "cell_type": "code",
   "execution_count": 7,
   "id": "c789f91d",
   "metadata": {},
   "outputs": [],
   "source": [
    "import os\n",
    "import glob\n",
    "import cv2\n",
    "from aniposelib.boards import CharucoBoard, Checkerboard\n",
    "from aniposelib.cameras import Camera, CameraGroup\n",
    "\n",
    "calib_vid_dir = r'\\\\corexfs.med.umich.edu\\SharedX\\Neuro-Leventhal\\data\\skilled_reaching\\test_calibration'\n",
    "vid_name = 'GridCalibration_box01_20230821_11-46-28.avi'\n",
    "full_vid_name = os.path.join(calib_vid_dir, vid_name)"
   ]
  },
  {
   "cell_type": "code",
   "execution_count": 8,
   "id": "1ddf8761",
   "metadata": {},
   "outputs": [
    {
     "data": {
      "text/plain": [
       "'4.8.0'"
      ]
     },
     "execution_count": 8,
     "metadata": {},
     "output_type": "execute_result"
    }
   ],
   "source": [
    "cv2.__version__"
   ]
  },
  {
   "cell_type": "code",
   "execution_count": 9,
   "id": "6cafbadf",
   "metadata": {},
   "outputs": [
    {
     "ename": "AttributeError",
     "evalue": "module 'cv2.aruco' has no attribute 'CharucoBoard_create'",
     "output_type": "error",
     "traceback": [
      "\u001b[1;31m---------------------------------------------------------------------------\u001b[0m",
      "\u001b[1;31mAttributeError\u001b[0m                            Traceback (most recent call last)",
      "Cell \u001b[1;32mIn[9], line 8\u001b[0m\n\u001b[0;32m      5\u001b[0m marker_bits \u001b[38;5;241m=\u001b[39m \u001b[38;5;241m4\u001b[39m\n\u001b[0;32m      7\u001b[0m camera \u001b[38;5;241m=\u001b[39m Camera()\n\u001b[1;32m----> 8\u001b[0m board \u001b[38;5;241m=\u001b[39m \u001b[43mCharucoBoard\u001b[49m\u001b[43m(\u001b[49m\u001b[43msquaresX\u001b[49m\u001b[43m,\u001b[49m\u001b[43m \u001b[49m\u001b[43msquaresY\u001b[49m\u001b[43m,\u001b[49m\u001b[43m \u001b[49m\u001b[43msquare_length\u001b[49m\u001b[43m,\u001b[49m\u001b[43m \u001b[49m\u001b[43mmarker_length\u001b[49m\u001b[43m,\u001b[49m\u001b[43m \u001b[49m\u001b[43mmarker_bits\u001b[49m\u001b[38;5;241;43m=\u001b[39;49m\u001b[43mmarker_bits\u001b[49m\u001b[43m)\u001b[49m\n",
      "File \u001b[1;32m~\\Anaconda3\\envs\\DEEPLABCUT\\lib\\site-packages\\aniposelib\\boards.py:567\u001b[0m, in \u001b[0;36mCharucoBoard.__init__\u001b[1;34m(self, squaresX, squaresY, square_length, marker_length, marker_bits, dict_size, aruco_dict, manually_verify)\u001b[0m\n\u001b[0;32m    564\u001b[0m dkey \u001b[38;5;241m=\u001b[39m (marker_bits, dict_size)\n\u001b[0;32m    565\u001b[0m \u001b[38;5;28mself\u001b[39m\u001b[38;5;241m.\u001b[39mdictionary \u001b[38;5;241m=\u001b[39m aruco\u001b[38;5;241m.\u001b[39mgetPredefinedDictionary(ARUCO_DICTS[dkey])\n\u001b[1;32m--> 567\u001b[0m \u001b[38;5;28mself\u001b[39m\u001b[38;5;241m.\u001b[39mboard \u001b[38;5;241m=\u001b[39m \u001b[43maruco\u001b[49m\u001b[38;5;241;43m.\u001b[39;49m\u001b[43mCharucoBoard_create\u001b[49m(squaresX, squaresY,\n\u001b[0;32m    568\u001b[0m                                        square_length, marker_length,\n\u001b[0;32m    569\u001b[0m                                        \u001b[38;5;28mself\u001b[39m\u001b[38;5;241m.\u001b[39mdictionary)\n\u001b[0;32m    571\u001b[0m total_size \u001b[38;5;241m=\u001b[39m (squaresX \u001b[38;5;241m-\u001b[39m \u001b[38;5;241m1\u001b[39m) \u001b[38;5;241m*\u001b[39m (squaresY \u001b[38;5;241m-\u001b[39m \u001b[38;5;241m1\u001b[39m)\n\u001b[0;32m    573\u001b[0m objp \u001b[38;5;241m=\u001b[39m np\u001b[38;5;241m.\u001b[39mzeros((total_size, \u001b[38;5;241m3\u001b[39m), np\u001b[38;5;241m.\u001b[39mfloat64)\n",
      "\u001b[1;31mAttributeError\u001b[0m: module 'cv2.aruco' has no attribute 'CharucoBoard_create'"
     ]
    }
   ],
   "source": [
    "squaresX = 8\n",
    "squaresY = 11\n",
    "square_length = 15\n",
    "marker_length = 11\n",
    "marker_bits = 4\n",
    "\n",
    "camera = Camera()\n",
    "board = CharucoBoard(squaresX, squaresY, square_length, marker_length, marker_bits=marker_bits)"
   ]
  },
  {
   "cell_type": "code",
   "execution_count": null,
   "id": "a0ab1cb0",
   "metadata": {},
   "outputs": [],
   "source": []
  }
 ],
 "metadata": {
  "kernelspec": {
   "display_name": "Python [conda env:DEEPLABCUT] *",
   "language": "python",
   "name": "conda-env-DEEPLABCUT-py"
  },
  "language_info": {
   "codemirror_mode": {
    "name": "ipython",
    "version": 3
   },
   "file_extension": ".py",
   "mimetype": "text/x-python",
   "name": "python",
   "nbconvert_exporter": "python",
   "pygments_lexer": "ipython3",
   "version": "3.8.16"
  }
 },
 "nbformat": 4,
 "nbformat_minor": 5
}
