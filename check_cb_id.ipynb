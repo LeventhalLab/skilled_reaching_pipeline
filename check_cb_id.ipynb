{
 "cells": [
  {
   "cell_type": "code",
   "execution_count": 64,
   "id": "64415278-3164-4914-bf82-09a0921bce9a",
   "metadata": {},
   "outputs": [],
   "source": [
    "import numpy as np\n",
    "from matplotlib import pyplot as plt\n",
    "import cv2\n",
    "import os\n",
    "import sys\n",
    "import glob\n",
    "import matplotlib\n",
    "matplotlib.use('nbagg')\n",
    "\n",
    "sr_path = r'C:\\Users\\dklev\\OneDrive\\Documents\\GitHub\\skilled_reaching_pipeline'\n",
    "sys.path.append(sr_path)\n",
    "\n",
    "import skilled_reaching_calibration\n",
    "import navigation_utilities\n",
    "import skilled_reaching_io\n",
    "import computer_vision_basics as cvb"
   ]
  },
  {
   "cell_type": "code",
   "execution_count": 52,
   "id": "b824665d-b98e-4c67-9ca1-503fdaf04536",
   "metadata": {},
   "outputs": [],
   "source": [
    "mouse_reaching_parent = r'C:\\Users\\dklev\\OneDrive\\Documents\\Burgess_local'\n",
    "\n",
    "video_root_folder = os.path.join(mouse_reaching_parent, 'mouse_SR_videos_tocrop')\n",
    "cropped_vids_parent = os.path.join(mouse_reaching_parent, 'cropped_mouse_SR_videos')\n",
    "marked_vids_parent = os.path.join(mouse_reaching_parent, 'marked_mouse_SR_videos')\n",
    "cal_vids_parent = os.path.join(mouse_reaching_parent, 'mouse_SR_calibration_videos')\n",
    "cal_data_parent = os.path.join(mouse_reaching_parent, 'mouse_SR_calibration_data')\n",
    "reconstruct_3d_parent = os.path.join(mouse_reaching_parent, 'mouse_SR_3dreconstructions')\n",
    "parent_directories = {\n",
    "'mouse_reaching_parent': mouse_reaching_parent,\n",
    "'video_root_folder': video_root_folder,\n",
    "'cropped_vids_parent': cropped_vids_parent,\n",
    "'marked_vids_parent': marked_vids_parent,\n",
    "'cal_vids_parent': cal_vids_parent,\n",
    "'cal_data_parent': cal_data_parent,\n",
    "'reconstruct3d_parent': reconstruct_3d_parent\n",
    "}"
   ]
  },
  {
   "cell_type": "code",
   "execution_count": null,
   "id": "34bea565-4473-4a4a-9c0b-23d6ff1153b5",
   "metadata": {},
   "outputs": [],
   "source": []
  }
 ],
 "metadata": {
  "kernelspec": {
   "display_name": "Python 3 (ipykernel)",
   "language": "python",
   "name": "python3"
  },
  "language_info": {
   "codemirror_mode": {
    "name": "ipython",
    "version": 3
   },
   "file_extension": ".py",
   "mimetype": "text/x-python",
   "name": "python",
   "nbconvert_exporter": "python",
   "pygments_lexer": "ipython3",
   "version": "3.9.12"
  }
 },
 "nbformat": 4,
 "nbformat_minor": 5
}
